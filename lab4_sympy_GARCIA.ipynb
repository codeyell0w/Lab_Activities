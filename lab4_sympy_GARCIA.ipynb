{
  "nbformat": 4,
  "nbformat_minor": 0,
  "metadata": {
    "colab": {
      "provenance": []
    },
    "kernelspec": {
      "name": "python3",
      "display_name": "Python 3"
    },
    "language_info": {
      "name": "python"
    }
  },
  "cells": [
    {
      "cell_type": "code",
      "execution_count": null,
      "metadata": {
        "id": "QoTCnny67Jmt"
      },
      "outputs": [],
      "source": [
        "from sympy import *"
      ]
    },
    {
      "cell_type": "markdown",
      "source": [
        "--------------------------------------"
      ],
      "metadata": {
        "id": "HPsjtmusBCFD"
      }
    },
    {
      "cell_type": "markdown",
      "source": [
        "# Playing With Symbols\n"
      ],
      "metadata": {
        "id": "2LX9_qAH9Roh"
      }
    },
    {
      "cell_type": "markdown",
      "source": [
        "--------------------------------------"
      ],
      "metadata": {
        "id": "ISoBv53f-rre"
      }
    },
    {
      "cell_type": "code",
      "source": [
        "x = symbols('x')\n",
        "x + x"
      ],
      "metadata": {
        "colab": {
          "base_uri": "https://localhost:8080/",
          "height": 39
        },
        "id": "aB9OxCSf9GtQ",
        "outputId": "073c6131-06cc-4603-f55d-712898397bfb"
      },
      "execution_count": null,
      "outputs": [
        {
          "output_type": "execute_result",
          "data": {
            "text/plain": [
              "2*x"
            ],
            "text/latex": "$\\displaystyle 2 x$"
          },
          "metadata": {},
          "execution_count": 3
        }
      ]
    },
    {
      "cell_type": "markdown",
      "source": [
        "**1. What do you think 'x + x' means?**"
      ],
      "metadata": {
        "id": "hEpFGme09Wal"
      }
    },
    {
      "cell_type": "markdown",
      "source": [
        "x2"
      ],
      "metadata": {
        "id": "XNO5yT4O-Qkg"
      }
    },
    {
      "cell_type": "code",
      "source": [
        "x * x"
      ],
      "metadata": {
        "colab": {
          "base_uri": "https://localhost:8080/",
          "height": 39
        },
        "id": "iyELk8_a9M0s",
        "outputId": "14cf0e7e-9cd3-4fdc-8e40-e1dbd9a68bf1"
      },
      "execution_count": null,
      "outputs": [
        {
          "output_type": "execute_result",
          "data": {
            "text/plain": [
              "x**2"
            ],
            "text/latex": "$\\displaystyle x^{2}$"
          },
          "metadata": {},
          "execution_count": 4
        }
      ]
    },
    {
      "cell_type": "markdown",
      "source": [
        "**2. What does x * x represent?**"
      ],
      "metadata": {
        "id": "3z5jVTeK-hS0"
      }
    },
    {
      "cell_type": "markdown",
      "source": [
        "x squared"
      ],
      "metadata": {
        "id": "vI_mlrTX-uNM"
      }
    },
    {
      "cell_type": "markdown",
      "source": [
        "--------------------------------------"
      ],
      "metadata": {
        "id": "euO3t4-D-m--"
      }
    },
    {
      "cell_type": "markdown",
      "source": [
        "# Exploring Limits"
      ],
      "metadata": {
        "id": "5Wq5tlBIATDN"
      }
    },
    {
      "cell_type": "markdown",
      "source": [
        "--------------------------------------"
      ],
      "metadata": {
        "id": "mdtlS8R3Apwa"
      }
    },
    {
      "cell_type": "code",
      "source": [
        "limit(sin(x)/x, x, 0)"
      ],
      "metadata": {
        "colab": {
          "base_uri": "https://localhost:8080/",
          "height": 37
        },
        "id": "T4G5birz9jSK",
        "outputId": "3b856abc-293d-42da-8e37-718381c0992b"
      },
      "execution_count": null,
      "outputs": [
        {
          "output_type": "execute_result",
          "data": {
            "text/plain": [
              "1"
            ],
            "text/latex": "$\\displaystyle 1$"
          },
          "metadata": {},
          "execution_count": 5
        }
      ]
    },
    {
      "cell_type": "markdown",
      "source": [
        "**3. What result do you get? What do you think it means?**"
      ],
      "metadata": {
        "id": "SVBFDt7AAwOm"
      }
    },
    {
      "cell_type": "markdown",
      "source": [
        "as x approaches 0, sin(x)/x approaches 1."
      ],
      "metadata": {
        "id": "UZ0Z6Ht5Axsi"
      }
    },
    {
      "cell_type": "markdown",
      "source": [
        "--------------------------------------"
      ],
      "metadata": {
        "id": "-VdT_7L3Agyi"
      }
    },
    {
      "cell_type": "markdown",
      "source": [
        "# Playing with Derivatives"
      ],
      "metadata": {
        "id": "RkCtTfHvA5eQ"
      }
    },
    {
      "cell_type": "code",
      "source": [
        "diff(x**2, x)"
      ],
      "metadata": {
        "colab": {
          "base_uri": "https://localhost:8080/",
          "height": 39
        },
        "id": "UL6LQFrfBYls",
        "outputId": "bc60400a-4f49-4c9f-99bf-cf7de019d90a"
      },
      "execution_count": null,
      "outputs": [
        {
          "output_type": "execute_result",
          "data": {
            "text/plain": [
              "2*x"
            ],
            "text/latex": "$\\displaystyle 2 x$"
          },
          "metadata": {},
          "execution_count": 6
        }
      ]
    },
    {
      "cell_type": "markdown",
      "source": [
        "**4. What is the output? Can you describe what it tells you?**"
      ],
      "metadata": {
        "id": "BBbSNatZBZRl"
      }
    },
    {
      "cell_type": "markdown",
      "source": [
        "2x"
      ],
      "metadata": {
        "id": "c3ApaB8iCoCZ"
      }
    },
    {
      "cell_type": "markdown",
      "source": [
        "--------------------------------------"
      ],
      "metadata": {
        "id": "NP1Q5hc5Ap9g"
      }
    },
    {
      "cell_type": "markdown",
      "source": [
        "# Series Expansion"
      ],
      "metadata": {
        "id": "e3qzJYRjBDna"
      }
    },
    {
      "cell_type": "markdown",
      "source": [
        "--------------------------------------"
      ],
      "metadata": {
        "id": "2QkAz45EAqAS"
      }
    },
    {
      "cell_type": "code",
      "source": [
        "exp(x).series(x, 0, 4)"
      ],
      "metadata": {
        "colab": {
          "base_uri": "https://localhost:8080/",
          "height": 54
        },
        "id": "LXOdC9s2C2T_",
        "outputId": "8c89b1da-a99d-48a6-cf64-25b1f111c499"
      },
      "execution_count": null,
      "outputs": [
        {
          "output_type": "execute_result",
          "data": {
            "text/plain": [
              "1 + x + x**2/2 + x**3/6 + O(x**4)"
            ],
            "text/latex": "$\\displaystyle 1 + x + \\frac{x^{2}}{2} + \\frac{x^{3}}{6} + O\\left(x^{4}\\right)$"
          },
          "metadata": {},
          "execution_count": 7
        }
      ]
    },
    {
      "cell_type": "markdown",
      "source": [
        "**5. What do you see? How many terms are shown in the result?**"
      ],
      "metadata": {
        "id": "QEe9dHLUBzGD"
      }
    },
    {
      "cell_type": "markdown",
      "source": [
        "4 terms"
      ],
      "metadata": {
        "id": "_NzsZS1DC9zC"
      }
    },
    {
      "cell_type": "markdown",
      "source": [
        "--------------------------------------"
      ],
      "metadata": {
        "id": "ybNvaCvODkyb"
      }
    },
    {
      "cell_type": "markdown",
      "source": [
        "# Solving Equations"
      ],
      "metadata": {
        "id": "f5kKzyVgBHTO"
      }
    },
    {
      "cell_type": "markdown",
      "source": [
        "--------------------------------------"
      ],
      "metadata": {
        "id": "DasnMI45AqCx"
      }
    },
    {
      "cell_type": "code",
      "source": [
        "solve(Eq(x**2 - 4, 0), x)"
      ],
      "metadata": {
        "colab": {
          "base_uri": "https://localhost:8080/"
        },
        "id": "EdR7iHQ5DHSs",
        "outputId": "c343317d-ca77-4fa8-f380-5c3a430badba"
      },
      "execution_count": null,
      "outputs": [
        {
          "output_type": "execute_result",
          "data": {
            "text/plain": [
              "[-2, 2]"
            ]
          },
          "metadata": {},
          "execution_count": 8
        }
      ]
    },
    {
      "cell_type": "markdown",
      "source": [
        "**6. What are the answers?**"
      ],
      "metadata": {
        "id": "3INDiZvyB11y"
      }
    },
    {
      "cell_type": "markdown",
      "source": [
        " [-2, 2]"
      ],
      "metadata": {
        "id": "iGT070SzDKFq"
      }
    },
    {
      "cell_type": "markdown",
      "source": [
        "**7. What kind of problem do you think this is?**"
      ],
      "metadata": {
        "id": "Tvmuv78ZB6G_"
      }
    },
    {
      "cell_type": "markdown",
      "source": [
        "Quadratic Equation problem."
      ],
      "metadata": {
        "id": "VuEu-r7HDSEC"
      }
    },
    {
      "cell_type": "markdown",
      "source": [
        "--------------------------------------"
      ],
      "metadata": {
        "id": "g-fCdgNcDm7r"
      }
    },
    {
      "cell_type": "markdown",
      "source": [
        "# Final Thoughts"
      ],
      "metadata": {
        "id": "LaNa7jMjBKZa"
      }
    },
    {
      "cell_type": "markdown",
      "source": [
        "--------------------------------------"
      ],
      "metadata": {
        "id": "ehWFXqtdAqFe"
      }
    },
    {
      "cell_type": "markdown",
      "source": [
        "**8. What was your favorite part of this activity?**"
      ],
      "metadata": {
        "id": "58tPh3OeCA0Q"
      }
    },
    {
      "cell_type": "markdown",
      "source": [
        "SymPy made calculus"
      ],
      "metadata": {
        "id": "Fimz8eThDaKk"
      }
    },
    {
      "cell_type": "markdown",
      "source": [
        "**9. What was something new or surprising you learned?**"
      ],
      "metadata": {
        "id": "Wq_nwXGjCCYP"
      }
    },
    {
      "cell_type": "markdown",
      "source": [
        "it's cool because SymPy breaks down complex math equations into simple tasks.\n"
      ],
      "metadata": {
        "id": "8UGifNLEDdHu"
      }
    },
    {
      "cell_type": "code",
      "source": [],
      "metadata": {
        "id": "YAzJmoJn_ME7"
      },
      "execution_count": null,
      "outputs": []
    }
  ]
}